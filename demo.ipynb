{
 "cells": [
  {
   "cell_type": "code",
   "id": "initial_id",
   "metadata": {
    "collapsed": true,
    "ExecuteTime": {
     "end_time": "2025-10-09T16:54:15.128474Z",
     "start_time": "2025-10-09T16:54:13.505518Z"
    }
   },
   "source": [
    "from data_structures.benchmark_type_enum import BenchmarkType\n",
    "from main.add_features_pipeline import AddFeaturesPipeline\n",
    "from main.merge_data import BenchmarkResultsMerger\n",
    "\n",
    "benchmark_merger = BenchmarkResultsMerger(\n",
    "    BenchmarkType.VERIFIED, \"20250805_openhands-Qwen3-Coder-30B-A3B-Instruct\"\n",
    ")\n",
    "df = benchmark_merger.get_df_with_resolved_status()\n",
    "print(list(df.columns))\n",
    "\n",
    "df_with_feats = AddFeaturesPipeline(input_df=df).execute()\n",
    "print(\"\\nFeature columns added:\")\n",
    "print(list(set(df_with_feats.columns) - set(df.columns)))"
   ],
   "outputs": [
    {
     "name": "stdout",
     "output_type": "stream",
     "text": [
      "['repo', 'instance_id', 'base_commit', 'patch', 'test_patch', 'problem_statement', 'hints_text', 'created_at', 'version', 'FAIL_TO_PASS', 'PASS_TO_PASS', 'environment_setup_commit', 'difficulty', 'resolve_status']\n",
      "\n",
      "Feature columns added:\n",
      "['FEAT_num_of_files_changed', 'FEAT_length_of_description', 'FEAT_num_of_deletions', 'FEAT_num_of_additions', 'FEAT_num_of_pass_to_pass', 'FEAT_patch_spread', 'FEAT_num_of_code_mentions', 'FEAT_difficulty_15 min - 1 hour', 'FEAT_difficulty_>4 hours', 'FEAT_files_hierarchy_delta', 'FEAT_num_of_hunks', 'patch_fixed', 'FEAT_num_of_fail_to_pass', 'FEAT_difficulty_<15 min fix', 'FEAT_difficulty_1-4 hours']\n"
     ]
    }
   ],
   "execution_count": 1
  },
  {
   "metadata": {
    "ExecuteTime": {
     "end_time": "2025-10-09T16:55:37.410199Z",
     "start_time": "2025-10-09T16:55:35.412930Z"
    }
   },
   "cell_type": "code",
   "source": [
    "\n",
    "only_features_df = AddFeaturesPipeline(input_df=df_with_feats).get_only_features_df()\n",
    "\n",
    "only_features_df.corr()"
   ],
   "id": "18f93e39338e24fb",
   "outputs": [
    {
     "ename": "KeyError",
     "evalue": "\"None of [Index(['difficulty'], dtype='object')] are in the [columns]\"",
     "output_type": "error",
     "traceback": [
      "\u001B[31m---------------------------------------------------------------------------\u001B[39m",
      "\u001B[31mKeyError\u001B[39m                                  Traceback (most recent call last)",
      "\u001B[36mCell\u001B[39m\u001B[36m \u001B[39m\u001B[32mIn[4]\u001B[39m\u001B[32m, line 1\u001B[39m\n\u001B[32m----> \u001B[39m\u001B[32m1\u001B[39m only_features_df = \u001B[43mAddFeaturesPipeline\u001B[49m\u001B[43m(\u001B[49m\u001B[43minput_df\u001B[49m\u001B[43m=\u001B[49m\u001B[43mdf_with_feats\u001B[49m\u001B[43m)\u001B[49m\u001B[43m.\u001B[49m\u001B[43mget_only_features_df\u001B[49m\u001B[43m(\u001B[49m\u001B[43m)\u001B[49m\n\u001B[32m      2\u001B[39m only_features_df.corr()\n",
      "\u001B[36mFile \u001B[39m\u001B[32mC:\\code\\swe-bench\\main\\add_features_pipeline.py:46\u001B[39m, in \u001B[36mAddFeaturesPipeline.get_only_features_df\u001B[39m\u001B[34m(self)\u001B[39m\n\u001B[32m     44\u001B[39m \u001B[38;5;28;01mdef\u001B[39;00m\u001B[38;5;250m \u001B[39m\u001B[34mget_only_features_df\u001B[39m(\u001B[38;5;28mself\u001B[39m):\n\u001B[32m     45\u001B[39m     \u001B[38;5;28;01mif\u001B[39;00m \u001B[38;5;28mself\u001B[39m.output_df \u001B[38;5;129;01mis\u001B[39;00m \u001B[38;5;28;01mNone\u001B[39;00m:\n\u001B[32m---> \u001B[39m\u001B[32m46\u001B[39m         \u001B[38;5;28;43mself\u001B[39;49m\u001B[43m.\u001B[49m\u001B[43mexecute\u001B[49m\u001B[43m(\u001B[49m\u001B[43m)\u001B[49m\n\u001B[32m     48\u001B[39m     column_names_feats = [\n\u001B[32m     49\u001B[39m         col \u001B[38;5;28;01mfor\u001B[39;00m col \u001B[38;5;129;01min\u001B[39;00m \u001B[38;5;28mself\u001B[39m.output_df.columns \u001B[38;5;28;01mif\u001B[39;00m col.startswith(\u001B[33m\"\u001B[39m\u001B[33mFEAT_\u001B[39m\u001B[33m\"\u001B[39m)\n\u001B[32m     50\u001B[39m     ]\n\u001B[32m     51\u001B[39m     only_features_df = \u001B[38;5;28mself\u001B[39m.output_df.set_index(\u001B[33m\"\u001B[39m\u001B[33minstance_id\u001B[39m\u001B[33m\"\u001B[39m)[column_names_feats]\n",
      "\u001B[36mFile \u001B[39m\u001B[32mC:\\code\\swe-bench\\main\\add_features_pipeline.py:39\u001B[39m, in \u001B[36mAddFeaturesPipeline.execute\u001B[39m\u001B[34m(self)\u001B[39m\n\u001B[32m     37\u001B[39m result = \u001B[38;5;28mself\u001B[39m.input_df\n\u001B[32m     38\u001B[39m \u001B[38;5;28;01mfor\u001B[39;00m add_feature_function \u001B[38;5;129;01min\u001B[39;00m executables:\n\u001B[32m---> \u001B[39m\u001B[32m39\u001B[39m     result = \u001B[43madd_feature_function\u001B[49m\u001B[43m(\u001B[49m\u001B[43mresult\u001B[49m\u001B[43m)\u001B[49m\n\u001B[32m     40\u001B[39m \u001B[38;5;28mself\u001B[39m.output_df = result\n\u001B[32m     42\u001B[39m \u001B[38;5;28;01mreturn\u001B[39;00m \u001B[38;5;28mself\u001B[39m.output_df\n",
      "\u001B[36mFile \u001B[39m\u001B[32mC:\\code\\swe-bench\\main\\add_features_pipeline.py:229\u001B[39m, in \u001B[36mAddFeaturesPipeline._add_difficulty_binary_features\u001B[39m\u001B[34m(input_df)\u001B[39m\n\u001B[32m    227\u001B[39m \u001B[38;5;129m@staticmethod\u001B[39m\n\u001B[32m    228\u001B[39m \u001B[38;5;28;01mdef\u001B[39;00m\u001B[38;5;250m \u001B[39m\u001B[34m_add_difficulty_binary_features\u001B[39m(input_df):\n\u001B[32m--> \u001B[39m\u001B[32m229\u001B[39m     result = \u001B[43mpd\u001B[49m\u001B[43m.\u001B[49m\u001B[43mget_dummies\u001B[49m\u001B[43m(\u001B[49m\n\u001B[32m    230\u001B[39m \u001B[43m        \u001B[49m\u001B[43minput_df\u001B[49m\u001B[43m,\u001B[49m\u001B[43m \u001B[49m\u001B[43mcolumns\u001B[49m\u001B[43m=\u001B[49m\u001B[43m[\u001B[49m\u001B[33;43m\"\u001B[39;49m\u001B[33;43mdifficulty\u001B[39;49m\u001B[33;43m\"\u001B[39;49m\u001B[43m]\u001B[49m\u001B[43m,\u001B[49m\u001B[43m \u001B[49m\u001B[43mprefix\u001B[49m\u001B[43m=\u001B[49m\u001B[33;43m\"\u001B[39;49m\u001B[33;43mFEAT_difficulty\u001B[39;49m\u001B[33;43m\"\u001B[39;49m\n\u001B[32m    231\u001B[39m \u001B[43m    \u001B[49m\u001B[43m)\u001B[49m\n\u001B[32m    232\u001B[39m     \u001B[38;5;28;01mreturn\u001B[39;00m result\n",
      "\u001B[36mFile \u001B[39m\u001B[32m~\\anaconda3\\envs\\swe-bench\\Lib\\site-packages\\pandas\\core\\reshape\\encoding.py:170\u001B[39m, in \u001B[36mget_dummies\u001B[39m\u001B[34m(data, prefix, prefix_sep, dummy_na, columns, sparse, drop_first, dtype)\u001B[39m\n\u001B[32m    168\u001B[39m     \u001B[38;5;28;01mraise\u001B[39;00m \u001B[38;5;167;01mTypeError\u001B[39;00m(\u001B[33m\"\u001B[39m\u001B[33mInput must be a list-like for parameter `columns`\u001B[39m\u001B[33m\"\u001B[39m)\n\u001B[32m    169\u001B[39m \u001B[38;5;28;01melse\u001B[39;00m:\n\u001B[32m--> \u001B[39m\u001B[32m170\u001B[39m     data_to_encode = \u001B[43mdata\u001B[49m\u001B[43m[\u001B[49m\u001B[43mcolumns\u001B[49m\u001B[43m]\u001B[49m\n\u001B[32m    172\u001B[39m \u001B[38;5;66;03m# validate prefixes and separator to avoid silently dropping cols\u001B[39;00m\n\u001B[32m    173\u001B[39m \u001B[38;5;28;01mdef\u001B[39;00m\u001B[38;5;250m \u001B[39m\u001B[34mcheck_len\u001B[39m(item, name: \u001B[38;5;28mstr\u001B[39m):\n",
      "\u001B[36mFile \u001B[39m\u001B[32m~\\anaconda3\\envs\\swe-bench\\Lib\\site-packages\\pandas\\core\\frame.py:4113\u001B[39m, in \u001B[36mDataFrame.__getitem__\u001B[39m\u001B[34m(self, key)\u001B[39m\n\u001B[32m   4111\u001B[39m     \u001B[38;5;28;01mif\u001B[39;00m is_iterator(key):\n\u001B[32m   4112\u001B[39m         key = \u001B[38;5;28mlist\u001B[39m(key)\n\u001B[32m-> \u001B[39m\u001B[32m4113\u001B[39m     indexer = \u001B[38;5;28;43mself\u001B[39;49m\u001B[43m.\u001B[49m\u001B[43mcolumns\u001B[49m\u001B[43m.\u001B[49m\u001B[43m_get_indexer_strict\u001B[49m\u001B[43m(\u001B[49m\u001B[43mkey\u001B[49m\u001B[43m,\u001B[49m\u001B[43m \u001B[49m\u001B[33;43m\"\u001B[39;49m\u001B[33;43mcolumns\u001B[39;49m\u001B[33;43m\"\u001B[39;49m\u001B[43m)\u001B[49m[\u001B[32m1\u001B[39m]\n\u001B[32m   4115\u001B[39m \u001B[38;5;66;03m# take() does not accept boolean indexers\u001B[39;00m\n\u001B[32m   4116\u001B[39m \u001B[38;5;28;01mif\u001B[39;00m \u001B[38;5;28mgetattr\u001B[39m(indexer, \u001B[33m\"\u001B[39m\u001B[33mdtype\u001B[39m\u001B[33m\"\u001B[39m, \u001B[38;5;28;01mNone\u001B[39;00m) == \u001B[38;5;28mbool\u001B[39m:\n",
      "\u001B[36mFile \u001B[39m\u001B[32m~\\anaconda3\\envs\\swe-bench\\Lib\\site-packages\\pandas\\core\\indexes\\base.py:6212\u001B[39m, in \u001B[36mIndex._get_indexer_strict\u001B[39m\u001B[34m(self, key, axis_name)\u001B[39m\n\u001B[32m   6209\u001B[39m \u001B[38;5;28;01melse\u001B[39;00m:\n\u001B[32m   6210\u001B[39m     keyarr, indexer, new_indexer = \u001B[38;5;28mself\u001B[39m._reindex_non_unique(keyarr)\n\u001B[32m-> \u001B[39m\u001B[32m6212\u001B[39m \u001B[38;5;28;43mself\u001B[39;49m\u001B[43m.\u001B[49m\u001B[43m_raise_if_missing\u001B[49m\u001B[43m(\u001B[49m\u001B[43mkeyarr\u001B[49m\u001B[43m,\u001B[49m\u001B[43m \u001B[49m\u001B[43mindexer\u001B[49m\u001B[43m,\u001B[49m\u001B[43m \u001B[49m\u001B[43maxis_name\u001B[49m\u001B[43m)\u001B[49m\n\u001B[32m   6214\u001B[39m keyarr = \u001B[38;5;28mself\u001B[39m.take(indexer)\n\u001B[32m   6215\u001B[39m \u001B[38;5;28;01mif\u001B[39;00m \u001B[38;5;28misinstance\u001B[39m(key, Index):\n\u001B[32m   6216\u001B[39m     \u001B[38;5;66;03m# GH 42790 - Preserve name from an Index\u001B[39;00m\n",
      "\u001B[36mFile \u001B[39m\u001B[32m~\\anaconda3\\envs\\swe-bench\\Lib\\site-packages\\pandas\\core\\indexes\\base.py:6261\u001B[39m, in \u001B[36mIndex._raise_if_missing\u001B[39m\u001B[34m(self, key, indexer, axis_name)\u001B[39m\n\u001B[32m   6259\u001B[39m \u001B[38;5;28;01mif\u001B[39;00m nmissing:\n\u001B[32m   6260\u001B[39m     \u001B[38;5;28;01mif\u001B[39;00m nmissing == \u001B[38;5;28mlen\u001B[39m(indexer):\n\u001B[32m-> \u001B[39m\u001B[32m6261\u001B[39m         \u001B[38;5;28;01mraise\u001B[39;00m \u001B[38;5;167;01mKeyError\u001B[39;00m(\u001B[33mf\u001B[39m\u001B[33m\"\u001B[39m\u001B[33mNone of [\u001B[39m\u001B[38;5;132;01m{\u001B[39;00mkey\u001B[38;5;132;01m}\u001B[39;00m\u001B[33m] are in the [\u001B[39m\u001B[38;5;132;01m{\u001B[39;00maxis_name\u001B[38;5;132;01m}\u001B[39;00m\u001B[33m]\u001B[39m\u001B[33m\"\u001B[39m)\n\u001B[32m   6263\u001B[39m     not_found = \u001B[38;5;28mlist\u001B[39m(ensure_index(key)[missing_mask.nonzero()[\u001B[32m0\u001B[39m]].unique())\n\u001B[32m   6264\u001B[39m     \u001B[38;5;28;01mraise\u001B[39;00m \u001B[38;5;167;01mKeyError\u001B[39;00m(\u001B[33mf\u001B[39m\u001B[33m\"\u001B[39m\u001B[38;5;132;01m{\u001B[39;00mnot_found\u001B[38;5;132;01m}\u001B[39;00m\u001B[33m not in index\u001B[39m\u001B[33m\"\u001B[39m)\n",
      "\u001B[31mKeyError\u001B[39m: \"None of [Index(['difficulty'], dtype='object')] are in the [columns]\""
     ]
    }
   ],
   "execution_count": 4
  },
  {
   "metadata": {},
   "cell_type": "code",
   "outputs": [],
   "execution_count": null,
   "source": "",
   "id": "8cd0381beb8b03eb"
  }
 ],
 "metadata": {
  "kernelspec": {
   "display_name": "Python 3",
   "language": "python",
   "name": "python3"
  },
  "language_info": {
   "codemirror_mode": {
    "name": "ipython",
    "version": 2
   },
   "file_extension": ".py",
   "mimetype": "text/x-python",
   "name": "python",
   "nbconvert_exporter": "python",
   "pygments_lexer": "ipython2",
   "version": "2.7.6"
  }
 },
 "nbformat": 4,
 "nbformat_minor": 5
}
